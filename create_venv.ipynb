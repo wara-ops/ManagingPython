{
 "cells": [
  {
   "cell_type": "markdown",
   "id": "b38998bd",
   "metadata": {
    "cell_marker": "\"\"\""
   },
   "source": [
    "## Creating a custom virtual environment"
   ]
  },
  {
   "cell_type": "code",
   "execution_count": null,
   "id": "14089781",
   "metadata": {},
   "outputs": [],
   "source": [
    "%%sh\n",
    "SCRIPT=\"nbvenv.sh\"\n",
    "\n",
    "cat << \"EOF\" > ${SCRIPT}\n",
    "#!/usr/bin/env bash\n",
    "\n",
    "usage() {\n",
    "    echo \"Usage: $0 -c <env_name>\"\n",
    "    exit 1\n",
    "}\n",
    "\n",
    "[ \"$#\" -eq 0 ] && usage\n",
    "\n",
    "while [[ \"$#\" -gt 0 ]]; do\n",
    "    case $1 in\n",
    "        -c|--create) target=\"$2\"; shift; [ -n \"${target}\" ] || usage ;;\n",
    "        -h|--help) usage ;;\n",
    "        *) echo \"Unknown parameter passed: $1\"; usage ;;\n",
    "    esac\n",
    "    shift\n",
    "done\n",
    "\n",
    "python3 -m venv \"~/.virtualenvs/${target}\"\n",
    "source \"~/.virtualenvs/${target}/bin/activate\"\n",
    "pip install -q ipykernel\n",
    "python -m ipykernel install --user --name=\"${target}\" --display-name=\"Python 3 (${target})\"\n",
    "pip list --format freeze > \"${target}_base_requirements.txt\"\n",
    "echo \"Virtual environment \\\"${target}\\\" created\"\n",
    "echo \"Listed base requirements in: ${target}_base_requirements.txt\"\n",
    "echo \"You can restore virtual environment \\\"${target}\\\" to pristine (this) state by:\"\n",
    "echo \"pip freeze | grep -v -f ${target}_base_requirements.txt - | grep -v '^#' | xargs pip uninstall -y\"\n",
    "\n",
    "EOF\n",
    "\n",
    "\n",
    "chmod +x ${SCRIPT}\n",
    "ls -l ${SCRIPT}"
   ]
  },
  {
   "cell_type": "markdown",
   "id": "16f90c3d",
   "metadata": {
    "cell_marker": "\"\"\""
   },
   "source": [
    "### Using the script"
   ]
  },
  {
   "cell_type": "code",
   "execution_count": null,
   "id": "ffd23fcf",
   "metadata": {},
   "outputs": [],
   "source": [
    "!./nbvenv.sh -h"
   ]
  },
  {
   "cell_type": "code",
   "execution_count": null,
   "id": "1336957a",
   "metadata": {},
   "outputs": [],
   "source": [
    "!./nbvenv.sh -c foo"
   ]
  }
 ],
 "metadata": {
  "jupytext": {
   "cell_markers": "\"\"\""
  },
  "kernelspec": {
   "display_name": "Python 3 (ipykernel)",
   "language": "python",
   "name": "python3"
  }
 },
 "nbformat": 4,
 "nbformat_minor": 5
}
